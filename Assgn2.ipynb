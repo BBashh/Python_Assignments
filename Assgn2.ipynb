{
 "cells": [
  {
   "cell_type": "code",
   "execution_count": 1,
   "id": "5dd265ac-f507-465c-9eae-50970bd77e54",
   "metadata": {},
   "outputs": [
    {
     "name": "stdin",
     "output_type": "stream",
     "text": [
      "enter name bibash\n",
      "enter age 22\n"
     ]
    },
    {
     "name": "stdout",
     "output_type": "stream",
     "text": [
      "Name is bibash & age is 22\n"
     ]
    }
   ],
   "source": [
    "#Q1: Write a program that accepts the user's name and age and prints a message?\n",
    "\n",
    "name=input(\"enter name\")\n",
    "age=int(input(\"enter age\"))\n",
    "\n",
    "print(f\"Name is {name} & age is {age}\")\n"
   ]
  },
  {
   "cell_type": "code",
   "execution_count": 5,
   "id": "9dd8106b-2349-4a33-b0b4-f55e437450f3",
   "metadata": {},
   "outputs": [
    {
     "name": "stdin",
     "output_type": "stream",
     "text": [
      "enter radius of circle 7\n"
     ]
    },
    {
     "name": "stdout",
     "output_type": "stream",
     "text": [
      "area of circle is 154.0\n"
     ]
    }
   ],
   "source": [
    "# Q2: Write a Python program to calculate the area of a circle given the radius by the user?\n",
    "\n",
    "r=float(input(\"enter radius of circle\"))\n",
    "\n",
    "print(\"area of circle is\", 22/7*r**2)"
   ]
  },
  {
   "cell_type": "code",
   "execution_count": 7,
   "id": "267ec7e6-1414-4eef-ad40-db21505aa0e7",
   "metadata": {},
   "outputs": [
    {
     "name": "stdin",
     "output_type": "stream",
     "text": [
      "enter number 9\n"
     ]
    },
    {
     "name": "stdout",
     "output_type": "stream",
     "text": [
      "9 is odd\n"
     ]
    }
   ],
   "source": [
    "# Q3: Write a program that checks if a number is even or odd using input from the user?\n",
    "\n",
    "a=int(input(\"enter number\"))\n",
    "\n",
    "if a%2==0:\n",
    "    print(f\"{a} is even\")\n",
    "else:\n",
    "    print(f\"{a} is odd\")"
   ]
  },
  {
   "cell_type": "code",
   "execution_count": 8,
   "id": "8cd9d25b-5064-4328-8a81-b5c4974ce242",
   "metadata": {},
   "outputs": [
    {
     "name": "stdout",
     "output_type": "stream",
     "text": [
      "11\n"
     ]
    }
   ],
   "source": [
    "# Q4: Write a Python program to evaluate the expression 5 + 3 * 2 and explain the output based on operator precedence?\n",
    "\n",
    "print(5 + 3 * 2)"
   ]
  },
  {
   "cell_type": "code",
   "execution_count": 12,
   "id": "81ff3556-aea6-4bb0-b69e-84a1821b4dc4",
   "metadata": {},
   "outputs": [
    {
     "name": "stdin",
     "output_type": "stream",
     "text": [
      "Enter something:  abc\n"
     ]
    },
    {
     "name": "stdout",
     "output_type": "stream",
     "text": [
      "You entered: abc\n",
      "Data type: <class 'str'>\n"
     ]
    }
   ],
   "source": [
    "# Q5: Write a program that reads a value from the user and prints its data type?\n",
    "\n",
    "value = input(\"Enter something: \")\n",
    "print(\"You entered:\", value)\n",
    "print(\"Data type:\", type(value))"
   ]
  },
  {
   "cell_type": "code",
   "execution_count": 16,
   "id": "69907287-5dd7-4f91-bdff-b8e8008977f0",
   "metadata": {},
   "outputs": [
    {
     "name": "stdin",
     "output_type": "stream",
     "text": [
      "enter string hi i am fine\n"
     ]
    },
    {
     "name": "stdout",
     "output_type": "stream",
     "text": [
      "enif ma i ih\n"
     ]
    }
   ],
   "source": [
    "# Q6: Write a Python program to reverse a string input by the user ?\n",
    "\n",
    "a=input(\"enter string\")\n",
    "print(a[::-1])"
   ]
  }
 ],
 "metadata": {
  "kernelspec": {
   "display_name": "Python 3 (ipykernel)",
   "language": "python",
   "name": "python3"
  },
  "language_info": {
   "codemirror_mode": {
    "name": "ipython",
    "version": 3
   },
   "file_extension": ".py",
   "mimetype": "text/x-python",
   "name": "python",
   "nbconvert_exporter": "python",
   "pygments_lexer": "ipython3",
   "version": "3.13.3"
  }
 },
 "nbformat": 4,
 "nbformat_minor": 5
}
