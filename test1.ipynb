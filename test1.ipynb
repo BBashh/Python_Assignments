{
 "cells": [
  {
   "cell_type": "code",
   "execution_count": 10,
   "id": "989bd151-f2ab-4754-a11b-16e32e389723",
   "metadata": {},
   "outputs": [
    {
     "name": "stdout",
     "output_type": "stream",
     "text": [
      "[1, 2, 3, 4, 5]\n"
     ]
    }
   ],
   "source": [
    "# What is the output of the following code and why?\n",
    "\n",
    "x = [1, 2, 3] \n",
    "y = x       # both x and y point to the same list in memory.\n",
    "y += [4, 5] # equivalent to y.extend([4, 5])\n",
    "print(x)"
   ]
  },
  {
   "cell_type": "code",
   "execution_count": 9,
   "id": "4a3d4df2-7cc3-4f83-989e-466020564846",
   "metadata": {},
   "outputs": [
    {
     "name": "stdout",
     "output_type": "stream",
     "text": [
      "True\n",
      "True\n",
      "False\n",
      "True\n"
     ]
    }
   ],
   "source": [
    "# Differentiate between `is`, `==`, and `is not` operators with code examples.\n",
    "\n",
    "a = [1, 2, 3]\n",
    "b = [1, 2, 3]\n",
    "\n",
    "print(a == b)  # True, because the contents of a and b are the same\n",
    "\n",
    "a = [1, 2, 3]\n",
    "b = a\n",
    "\n",
    "print(a is b)  # True, because b refers to the same object as a\n",
    "\n",
    "c = [1, 2, 3]\n",
    "print(a is c)  # False, because c is a different object with the same value\n",
    "\n",
    "x = [4, 5, 6]\n",
    "y = [4, 5, 6]\n",
    "\n",
    "print(x is not y)  # True, because x and y are different objects\n",
    "\n"
   ]
  },
  {
   "cell_type": "code",
   "execution_count": 12,
   "id": "3256838f-7524-4e37-a36b-ef8d83de6cf2",
   "metadata": {},
   "outputs": [
    {
     "name": "stdout",
     "output_type": "stream",
     "text": [
      "[1]\n",
      "[1, 1]\n"
     ]
    }
   ],
   "source": [
    "# Predict the output: \n",
    "def func(a=[]): \n",
    "    a.append(1) \n",
    "    return a \n",
    "print(func()) # default mutable argument: a=[]\n",
    "print(func()) # So, the same list a is reused across multiple calls to func()."
   ]
  },
  {
   "cell_type": "code",
   "execution_count": 18,
   "id": "66bff76f-9b2e-4f4b-952b-52db3a448b73",
   "metadata": {},
   "outputs": [
    {
     "name": "stdout",
     "output_type": "stream",
     "text": [
      "10\n",
      "outer\n",
      "global\n",
      "5\n"
     ]
    }
   ],
   "source": [
    "# How does Python manage variable scope and shadowing inside functions?\n",
    "\n",
    "# Local Scope\n",
    "def my_func():\n",
    "    x = 10  # Local scope\n",
    "    print(x)\n",
    "\n",
    "my_func()  # Output: 10\n",
    "# print(x)  # Error: x is not defined outside the function\n",
    "\n",
    "\n",
    "# Enclosing Scope\n",
    "def outer():\n",
    "    x = \"outer\"\n",
    "    def inner():\n",
    "        print(x)  # x is from enclosing scope\n",
    "    inner()\n",
    "\n",
    "outer()  # Output: outer\n",
    "\n",
    "\n",
    "# Global Scope\n",
    "x = \"global\"\n",
    "\n",
    "def my_func():\n",
    "    print(x)  # Refers to global x\n",
    "\n",
    "my_func()  # Output: global\n",
    "\n",
    "\n",
    "# Built-in Scope\n",
    "print(len(\"hello\"))  # Output: 5\n"
   ]
  },
  {
   "cell_type": "code",
   "execution_count": 22,
   "id": "312b0436-86fd-4b42-aeaf-529fcb72176e",
   "metadata": {},
   "outputs": [
    {
     "name": "stdout",
     "output_type": "stream",
     "text": [
      "'my_var' is a valid Python identifier.\n",
      "'2cool' is NOT a valid Python identifier.\n",
      "'@bib' is NOT a valid Python identifier.\n",
      "'_hidden' is a valid Python identifier.\n"
     ]
    }
   ],
   "source": [
    "# Write a Python program to determine whether a string is a valid identifier.\n",
    "\n",
    "\n",
    "\n",
    "# A valid identifier in Python is the name used to identify a variable, function, class, module, or other object.\n",
    "\n",
    "def is_valid_identifier(s):\n",
    "    if s.isidentifier():\n",
    "        return f\"'{s}' is a valid Python identifier.\"\n",
    "    else:\n",
    "        return f\"'{s}' is NOT a valid Python identifier.\"\n",
    "\n",
    "# Test cases\n",
    "print(is_valid_identifier(\"my_var\"))\n",
    "print(is_valid_identifier(\"2cool\"))\n",
    "print(is_valid_identifier(\"@bib\"))\n",
    "print(is_valid_identifier(\"_hidden\"))\n"
   ]
  },
  {
   "cell_type": "code",
   "execution_count": 24,
   "id": "7d0269ef-3033-4bb0-9e8b-04abea1e7d1c",
   "metadata": {},
   "outputs": [
    {
     "name": "stdout",
     "output_type": "stream",
     "text": [
      "20\n",
      "30\n"
     ]
    }
   ],
   "source": [
    "# Explain operator precedence with an example where results change based on parentheses\n",
    "\n",
    "# Operator precedence in Python determines the order in which operations are performed in an expression. \n",
    "# Parentheses () can be used to override this default order.\n",
    "\n",
    "result = 10 + 5 * 2\n",
    "print(result)  # Output: 20\n",
    "\n",
    "result = (10 + 5) * 2\n",
    "print(result)  # Output: 30\n",
    "\n"
   ]
  },
  {
   "cell_type": "code",
   "execution_count": 25,
   "id": "522ca145-0749-48bc-8f03-ee3ac5f97f77",
   "metadata": {},
   "outputs": [
    {
     "name": "stdout",
     "output_type": "stream",
     "text": [
      "False\n",
      "True\n",
      "False\n",
      "the  result is True\n"
     ]
    }
   ],
   "source": [
    "# What is the result of using `not a or b and c` when `a = False`, `b = True`, `c = False`?\n",
    "\n",
    "a = False\n",
    "b = True    \n",
    "c = False\n",
    "result = not a or b and c\n",
    "print(a)\n",
    "print(b)\n",
    "print(c)\n",
    "print(f\"the  result is {result}\")"
   ]
  },
  {
   "cell_type": "code",
   "execution_count": 26,
   "id": "78257b45-1d8c-419d-af67-9d4f1056aa06",
   "metadata": {},
   "outputs": [
    {
     "name": "stdin",
     "output_type": "stream",
     "text": [
      "Enter the value of num1 :  2\n",
      "Enter th value of num2 :  5\n",
      "Operations available are : + - * / //  *\n"
     ]
    },
    {
     "name": "stdout",
     "output_type": "stream",
     "text": [
      "10\n"
     ]
    }
   ],
   "source": [
    "# Write code to mimic a switch-case using match-case or dictionary-based approach.\n",
    "num1=int(input(\"Enter the value of num1 : \"))\n",
    "num2=int(input(\"Enter th value of num2 : \"))\n",
    "\n",
    "operation=input(\"Operations available are : + - * / // \")\n",
    "match operation:\n",
    "    case '+':\n",
    "        print(num1+num2)\n",
    "    case '-':\n",
    "        print(num1-num2)\n",
    "    case '*':\n",
    "        print(num1*num2)\n",
    "    case '/':\n",
    "        print(num1/num2)\n",
    "    case '//':\n",
    "        print(num1//num2)\n",
    "    case _:\n",
    "        print(\"Kindly choose a valid operation\")"
   ]
  },
  {
   "cell_type": "code",
   "execution_count": 29,
   "id": "bd2063c8-712f-43a9-8ba5-7abdb404e313",
   "metadata": {},
   "outputs": [
    {
     "name": "stdin",
     "output_type": "stream",
     "text": [
      "enter size 5\n"
     ]
    },
    {
     "name": "stdout",
     "output_type": "stream",
     "text": [
      "\n",
      "*\n",
      "**\n",
      "***\n",
      "****\n",
      "*****\n"
     ]
    }
   ],
   "source": [
    "# Write a pattern printing program using nested loops for this pattern:\n",
    "\n",
    "a=int(input(\"enter size\"))\n",
    "\n",
    "for i in range(a+1):\n",
    "    print(i*\"*\")"
   ]
  },
  {
   "cell_type": "code",
   "execution_count": 31,
   "id": "783e5021-7f5b-482b-b819-a041e6179ca6",
   "metadata": {},
   "outputs": [],
   "source": [
    "# Explain how the `assert` statement works. How is it different from `raise`?\n",
    "\n",
    "# The assert statement is used to test if a condition is true. \n",
    "# If the condition is false, it raises an AssertionError with an optional message.\n",
    "# The raise statement is used to explicitly throw an exception. \n",
    "# You can raise built-in exceptions or custom ones.\n",
    "\n",
    "x = 5\n",
    "assert x > 0, \"x must be positive\"\n",
    "\n",
    "if x < 0:\n",
    "    raise ValueError(\"x cannot be negative\")\n",
    "\n",
    "\n",
    "\n"
   ]
  },
  {
   "cell_type": "code",
   "execution_count": 33,
   "id": "8216c890-7f2b-4662-98bb-a89bbd4b5eb9",
   "metadata": {},
   "outputs": [
    {
     "name": "stdout",
     "output_type": "stream",
     "text": [
      "[10, 20, 100]\n"
     ]
    }
   ],
   "source": [
    "# Explain pass-by-object-reference with this example:\n",
    "\n",
    "def modify_list(lst):\n",
    "    lst.append(100)\n",
    "\n",
    "l = [10, 20]\n",
    "modify_list(l)\n",
    "print(l)\n",
    "\n",
    "\n",
    "# Python uses a mechanism called pass-by-object-reference (also known as pass-by-assignment). \n",
    "# This means:\n",
    "# Function arguments are references to objects, not the actual objects themselves.\n",
    "# However, whether changes affect the original object depends on the object’s mutability."
   ]
  },
  {
   "cell_type": "code",
   "execution_count": 34,
   "id": "7629874b-2f38-440a-b9de-ffd95b8742b3",
   "metadata": {},
   "outputs": [
    {
     "name": "stdout",
     "output_type": "stream",
     "text": [
      "88\n"
     ]
    }
   ],
   "source": [
    "# Write a function that returns the sum of even-indexed Fibonacci numbers up to N\n",
    "\n",
    "def sum_even_indexed_fibonacci(n):\n",
    "    fib = [0, 1]\n",
    "    i = 2\n",
    "    while True:\n",
    "        next_fib = fib[-1] + fib[-2]\n",
    "        if next_fib > n:\n",
    "            break\n",
    "        fib.append(next_fib)\n",
    "        i += 1\n",
    "    # Sum only even-indexed Fibonacci numbers\n",
    "    return sum(fib[i] for i in range(0, len(fib), 2))\n",
    "\n",
    "print(sum_even_indexed_fibonacci(100))\n",
    "\n"
   ]
  },
  {
   "cell_type": "code",
   "execution_count": 36,
   "id": "6d8c5c08-b5a3-462b-b31f-a45bfb61ecea",
   "metadata": {},
   "outputs": [
    {
     "name": "stdout",
     "output_type": "stream",
     "text": [
      "[1]\n",
      "[1, 2]\n"
     ]
    }
   ],
   "source": [
    "# What is the output? Explain. \n",
    "\n",
    "def foo(a, b=[]): # default mutable argument: b=[].\n",
    "    b.append(a)\n",
    "    return b\n",
    "\n",
    "print(foo(1))\n",
    "print(foo(2))\n",
    "\n",
    "# In Python, default arguments are evaluated only once when the function is defined, not each time the function is called.\n"
   ]
  },
  {
   "cell_type": "code",
   "execution_count": 40,
   "id": "c66412ef-e682-443b-91f9-db8fe6385576",
   "metadata": {},
   "outputs": [
    {
     "name": "stdout",
     "output_type": "stream",
     "text": [
      "10 20\n",
      "[85, 90, 95]\n",
      "Alice 30\n"
     ]
    }
   ],
   "source": [
    "# How would you return multiple values from a function? Show three ways.\n",
    "\n",
    "\n",
    "# 1, Using Tuples\n",
    "def get_coordinates():\n",
    "    x = 10\n",
    "    y = 20\n",
    "    return x, y  # returns a tuple (10, 20)\n",
    "\n",
    "a, b = get_coordinates()\n",
    "print(a, b)  # Output: 10 20\n",
    "\n",
    "# 2, Using Lists\n",
    "def get_scores():\n",
    "    return [85, 90, 95]\n",
    "\n",
    "scores = get_scores()\n",
    "print(scores)  # Output: [85, 90, 95]\n",
    "\n",
    "\n",
    "# 3, Using Dictionaries\n",
    "\n",
    "def get_person():\n",
    "    return {\"name\": \"Alice\", \"age\": 30}\n",
    "\n",
    "person = get_person()\n",
    "print(person[\"name\"], person[\"age\"])  # Output: Alice 30\n"
   ]
  },
  {
   "cell_type": "code",
   "execution_count": 41,
   "id": "b409e07c-44cd-4d61-9627-e1e5a7d2c622",
   "metadata": {},
   "outputs": [
    {
     "name": "stdout",
     "output_type": "stream",
     "text": [
      "120\n"
     ]
    }
   ],
   "source": [
    "# Write a recursive function to compute the factorial of a number\n",
    "\n",
    "def factorial(n):\n",
    "    if n == 0 or n == 1:\n",
    "        return 1\n",
    "    else:\n",
    "        return n * factorial(n - 1)\n",
    "        \n",
    "print(factorial(5))  # Output: 120\n"
   ]
  },
  {
   "cell_type": "code",
   "execution_count": 42,
   "id": "665fe615-f866-4e35-bbc7-b0109b668527",
   "metadata": {},
   "outputs": [
    {
     "name": "stdout",
     "output_type": "stream",
     "text": [
      "[4, 16, 36, 64, 100]\n"
     ]
    }
   ],
   "source": [
    "# Use map and filter together to find square of all even numbers from a list\n",
    "\n",
    "numbers = [1, 2, 3, 4, 5, 6, 7, 8, 9, 10]\n",
    "\n",
    "# Step 1: Filter even numbers\n",
    "# Step 2: Map to their squares\n",
    "squares_of_evens = list(map(lambda x: x**2, filter(lambda x: x % 2 == 0, numbers)))\n",
    "\n",
    "print(squares_of_evens)\n"
   ]
  },
  {
   "cell_type": "code",
   "execution_count": 43,
   "id": "9ec8e886-01bb-4897-8bec-ccedc05395ee",
   "metadata": {},
   "outputs": [
    {
     "name": "stdout",
     "output_type": "stream",
     "text": [
      "Positional arguments (args): (1, 2, 3)\n",
      "Keyword arguments (kwargs): {'name': 'Alice', 'age': 30}\n"
     ]
    }
   ],
   "source": [
    "# What's the difference between `*args` and `**kwargs`? Use both in a function.\n",
    "\n",
    "# In Python, *args and **kwargs are used to pass a variable number of arguments to a function.\n",
    "\n",
    "\n",
    "#  *args (Non-keyword arguments)\n",
    "# Collects extra positional arguments as a tuple.\n",
    "# Useful when you don’t know how many arguments will be passed.\n",
    "\n",
    "# **kwargs (Keyword arguments)\n",
    "# Collects extra named arguments as a dictionary.\n",
    "# Useful for handling optional or flexible keyword arguments.\n",
    "\n",
    "def show_info(*args, **kwargs):\n",
    "    print(\"Positional arguments (args):\", args)\n",
    "    print(\"Keyword arguments (kwargs):\", kwargs)\n",
    "\n",
    "show_info(1, 2, 3, name=\"Alice\", age=30)\n"
   ]
  },
  {
   "cell_type": "code",
   "execution_count": null,
   "id": "53218e39-90d7-44c9-919c-580f4e91ceff",
   "metadata": {},
   "outputs": [],
   "source": [
    "# Create a custom module with one function. Import and use it in another script.\n",
    "\n",
    "# Step 1: Create the Module File\n",
    "# mymodule.py\n",
    "\n",
    "def greet(name):\n",
    "    return f\"Hello, {name}!\"\n",
    "\n",
    "# Step 2: Create Another Script to Import and Use It\n",
    "# main.py\n",
    "\n",
    "import mymodule\n",
    "\n",
    "message = mymodule.greet(\"Alice\")\n",
    "print(message)\n",
    "\n"
   ]
  },
  {
   "cell_type": "code",
   "execution_count": 48,
   "id": "9365e464-a37c-475e-8d07-5b3e51416643",
   "metadata": {},
   "outputs": [
    {
     "name": "stdout",
     "output_type": "stream",
     "text": [
      "[(5, 0), (4, 1), (2, 2), (1, 3)]\n"
     ]
    }
   ],
   "source": [
    "# Write a lambda function to sort a list of tuples based on the second element.\n",
    "\n",
    "data = [(1, 3), (4, 1), (2, 2), (5, 0)]\n",
    "\n",
    "# Sort by second element using lambda\n",
    "sorted_data = sorted(data, key=lambda x: x[1])\n",
    "\n",
    "print(sorted_data)\n"
   ]
  },
  {
   "cell_type": "code",
   "execution_count": 49,
   "id": "2aa01318-df9a-4cd2-83e6-e3f60c872429",
   "metadata": {},
   "outputs": [
    {
     "name": "stdout",
     "output_type": "stream",
     "text": [
      "['apple']\n",
      "['apple', 'banana']\n"
     ]
    }
   ],
   "source": [
    "# Explain how Python handles default arguments. What's the danger with mutable types?\n",
    "\n",
    "# In Python, default arguments are evaluated once at the time the function is defined, not each time the function is called. This behavior is especially important when the default value is a mutable object like a list or dictionary.\n",
    "\n",
    "def add_item(item, items=[]):\n",
    "    items.append(item)\n",
    "    return items\n",
    "# Python creates the default list [] once, and reuses it every time the function is called without a second argument.\n",
    "print(add_item(\"apple\"))   # ['apple']\n",
    "print(add_item(\"banana\"))  # ['apple', 'banana'] ← unexpected!\n",
    "# You might expect the second call to return ['banana'], but it returns ['apple', 'banana'] because the same list is reused."
   ]
  },
  {
   "cell_type": "code",
   "execution_count": 50,
   "id": "ab833254-4012-4df1-9ab6-549215bea2a7",
   "metadata": {},
   "outputs": [
    {
     "name": "stdout",
     "output_type": "stream",
     "text": [
      "[1, 2, 3, 4, 5, 6]\n"
     ]
    }
   ],
   "source": [
    "# Write a list comprehension to flatten a 2D list.\n",
    "\n",
    "# Example 2D list\n",
    "matrix = [[1, 2], [3, 4], [5, 6]]\n",
    "\n",
    "# Flattened list using list comprehension\n",
    "flattened = [item for sublist in matrix for item in sublist]\n",
    "\n",
    "print(flattened)\n",
    "\n"
   ]
  },
  {
   "cell_type": "code",
   "execution_count": 51,
   "id": "c07a8ef3-012c-4c6c-b8a7-ed7eaa509422",
   "metadata": {},
   "outputs": [
    {
     "name": "stdout",
     "output_type": "stream",
     "text": [
      "{'python': 2, 'is': 2, 'great': 1, 'and': 1, 'easy': 1, 'to': 1, 'learn': 1}\n"
     ]
    }
   ],
   "source": [
    "# Write a Python code to count the frequency of words in a sentence using a dictionary.\n",
    "\n",
    "def count_word_frequency(sentence):\n",
    "    # Convert to lowercase and split into words\n",
    "    words = sentence.lower().split()\n",
    "    \n",
    "    # Create an empty dictionary to store word counts\n",
    "    frequency = {}\n",
    "    \n",
    "    for word in words:\n",
    "        # Remove punctuation from each word\n",
    "        word = word.strip(\".,!?;:\")\n",
    "        # Count the word\n",
    "        frequency[word] = frequency.get(word, 0) + 1\n",
    "    \n",
    "    return frequency\n",
    "\n",
    "# Example usage\n",
    "sentence = \"Python is great, and Python is easy to learn!\"\n",
    "word_counts = count_word_frequency(sentence)\n",
    "print(word_counts)\n",
    "\n"
   ]
  },
  {
   "cell_type": "code",
   "execution_count": 52,
   "id": "6adc4e02-18db-4504-ac94-f0757d7bf32d",
   "metadata": {},
   "outputs": [
    {
     "name": "stdout",
     "output_type": "stream",
     "text": [
      "[3, 4, 5]\n"
     ]
    }
   ],
   "source": [
    "# Given two lists, return the elements common to both using list comprehension and sets.\n",
    "\n",
    "list1 = [1, 2, 3, 4, 5]\n",
    "list2 = [3, 4, 5, 6, 7]\n",
    "\n",
    "# Convert one list to a set for faster lookup\n",
    "common_elements = [x for x in list1 if x in set(list2)]\n",
    "\n",
    "print(common_elements)\n",
    "\n"
   ]
  },
  {
   "cell_type": "code",
   "execution_count": 53,
   "id": "7e3003f3-ae43-425d-a684-fe83bd3d959e",
   "metadata": {},
   "outputs": [],
   "source": [
    "# What is the difference between `del`, `pop()`, and `remove()` in lists?\n",
    "\n",
    "# | Method     | Description                                                                 | Parameters         | Return Value        | Raises Error If...                          | Use Case Example             |\n",
    "# |------------|-----------------------------------------------------------------------------|--------------------|---------------------|---------------------------------------------|------------------------------|\n",
    "# | `del`      | Deletes an element at a specific index or deletes the entire list          | Index (optional)   | None                | Index is out of range                       | `del my_list[2]`             |\n",
    "# | `pop()`    | Removes and returns the element at a given index (default is last element) | Index (optional)   | The removed element | Index is out of range                       | `my_list.pop(1)`             |\n",
    "# | `remove()` | Removes the first occurrence of a specified value                          | Value              | None                | Value not found in the list                 | `my_list.remove(\"apple\")`    |\n"
   ]
  },
  {
   "cell_type": "code",
   "execution_count": 54,
   "id": "20ea7602-cb70-4645-94dd-936e0f7bb05d",
   "metadata": {},
   "outputs": [
    {
     "name": "stdout",
     "output_type": "stream",
     "text": [
      "hollo werld\n"
     ]
    }
   ],
   "source": [
    "# Write a code to reverse only the vowels in a string.\n",
    "\n",
    "def reverse_vowels(s: str) -> str:\n",
    "    vowels = set(\"aeiouAEIOU\")\n",
    "    s_list = list(s)\n",
    "    left, right = 0, len(s_list) - 1\n",
    "\n",
    "    while left < right:\n",
    "        if s_list[left] not in vowels:\n",
    "            left += 1\n",
    "        elif s_list[right] not in vowels:\n",
    "            right -= 1\n",
    "        else:\n",
    "            # Swap the vowels\n",
    "            s_list[left], s_list[right] = s_list[right], s_list[left]\n",
    "            left += 1\n",
    "            right -= 1\n",
    "\n",
    "    return ''.join(s_list)\n",
    "\n",
    "# Example usage\n",
    "input_str = \"hello world\"\n",
    "print(reverse_vowels(input_str))  # Output: \"holle werld\"\n"
   ]
  },
  {
   "cell_type": "code",
   "execution_count": 55,
   "id": "a0bf7ce9-2cfb-4222-a805-2333e605d644",
   "metadata": {},
   "outputs": [
    {
     "name": "stdout",
     "output_type": "stream",
     "text": [
      "True\n",
      "False\n"
     ]
    }
   ],
   "source": [
    "# How do you check if a list contains all unique elements? Write efficient code.\n",
    "\n",
    "def has_all_unique_elements(lst):\n",
    "    return len(lst) == len(set(lst))\n",
    "\n",
    "# Example usage\n",
    "my_list = [1, 2, 3, 4, 5]\n",
    "print(has_all_unique_elements(my_list))  # Output: True\n",
    "\n",
    "my_list2 = [1, 2, 2, 3]\n",
    "print(has_all_unique_elements(my_list2))  # Output: False\n"
   ]
  },
  {
   "cell_type": "code",
   "execution_count": 57,
   "id": "cd7344c2-922b-47fe-a842-18399d494c99",
   "metadata": {},
   "outputs": [
    {
     "name": "stdout",
     "output_type": "stream",
     "text": [
      "True\n",
      "False\n"
     ]
    }
   ],
   "source": [
    "# Write a function to check if two strings are anagrams\n",
    "\n",
    "def are_anagrams(str1: str, str2: str) -> bool:\n",
    "    # Remove spaces and convert to lowercase\n",
    "    str1 = str1.replace(\" \", \"\").lower()\n",
    "    str2 = str2.replace(\" \", \"\").lower()\n",
    "    \n",
    "    # Compare sorted characters\n",
    "    return sorted(str1) == sorted(str2)\n",
    "\n",
    "# Example usage\n",
    "print(are_anagrams(\"listen\", \"silent\"))  # Output: True\n",
    "print(are_anagrams(\"hello\", \"world\"))    # Output: False\n"
   ]
  },
  {
   "cell_type": "code",
   "execution_count": 58,
   "id": "d88ec115-d3b4-4039-960e-1636b916f519",
   "metadata": {},
   "outputs": [
    {
     "name": "stdout",
     "output_type": "stream",
     "text": [
      "([1, 2, 3, 4], 'hello')\n"
     ]
    }
   ],
   "source": [
    "# Explain how tuple immutability is bypassed using object references\n",
    "\n",
    "# Tuple containing a mutable list\n",
    "t = ([1, 2, 3], \"hello\")\n",
    "\n",
    "# Modify the list inside the tuple\n",
    "t[0].append(4)\n",
    "\n",
    "print(t)  # Output: ([1, 2, 3, 4], 'hello')\n",
    "\n",
    "\n",
    "# t is a tuple with two elements: a list [1, 2, 3] and a string \"hello\".\n",
    "# While you cannot reassign t[0] to a new list (e.g., t[0] = [9, 9, 9] would raise an error),\n",
    "# You can modify the list itself using methods like .append() because the tuple only stores a reference to the list.\n"
   ]
  },
  {
   "cell_type": "code",
   "execution_count": 59,
   "id": "54c33eb8-83a2-4377-ab3e-158a16f600d3",
   "metadata": {},
   "outputs": [
    {
     "name": "stdout",
     "output_type": "stream",
     "text": [
      "Hello world Hows everything going\n"
     ]
    }
   ],
   "source": [
    "# Write a program to remove all punctuation from a string.\n",
    "\n",
    "import string\n",
    "\n",
    "def remove_punctuation(text: str) -> str:\n",
    "    return ''.join(char for char in text if char not in string.punctuation)\n",
    "\n",
    "# Example usage\n",
    "input_str = \"Hello, world! How's everything going?\"\n",
    "cleaned_str = remove_punctuation(input_str)\n",
    "print(cleaned_str)  # Output: \"Hello world Hows everything going\"\n"
   ]
  },
  {
   "cell_type": "code",
   "execution_count": 60,
   "id": "4e71e8f2-0fa9-4b30-a67a-cdde8b60a496",
   "metadata": {},
   "outputs": [
    {
     "name": "stdout",
     "output_type": "stream",
     "text": [
      "{'a': 1, 'b': 2, 'c': 3}\n",
      "{1: 'a', 2: 'b', 3: 'c'}\n"
     ]
    }
   ],
   "source": [
    "# Create a dictionary from two lists using `zip` and explain how to reverse it.\n",
    "\n",
    "keys = ['a', 'b', 'c']\n",
    "values = [1, 2, 3]\n",
    "\n",
    "# Create dictionary\n",
    "original_dict = dict(zip(keys, values))\n",
    "print(original_dict)  # Output: {'a': 1, 'b': 2, 'c': 3}\n",
    "\n",
    "# Reverse the dictionary: keys become values and values become keys\n",
    "reversed_dict = {v: k for k, v in original_dict.items()}\n",
    "print(reversed_dict)  # Output: {1: 'a', 2: 'b', 3: 'c'}\n",
    "\n"
   ]
  },
  {
   "cell_type": "code",
   "execution_count": 62,
   "id": "4bdfe6e9-495c-4791-91ce-c62c8a4739f4",
   "metadata": {},
   "outputs": [
    {
     "name": "stdout",
     "output_type": "stream",
     "text": [
      "5000\n"
     ]
    }
   ],
   "source": [
    "# Explain data hiding and encapsulation using a real-world example.\n",
    "\n",
    "# Encapsulation is the bundling of data (attributes) and methods (functions) that operate on the data into a single unit — a class. It allows you to hide the internal state of an object and only expose a controlled interface.\n",
    "# Data hiding is a part of encapsulation. It restricts access to internal object details to prevent unintended interference and misuse. In Python, this is typically done using private variables (prefixing with _ or __).\n",
    "\n",
    "\n",
    "class BankAccount:\n",
    "    def __init__(self, owner, balance):\n",
    "        self.owner = owner\n",
    "        self.__balance = balance  # Private variable\n",
    "\n",
    "    def deposit(self, amount):\n",
    "        if amount > 0:\n",
    "            self.__balance += amount\n",
    "            print(f\"Deposited ₹{amount}. New balance: ₹{self.__balance}\")\n",
    "        else:\n",
    "            print(\"Deposit amount must be positive.\")\n",
    "\n",
    "    def withdraw(self, amount):\n",
    "        if 0 < amount <= self.__balance:\n",
    "            self.__balance -= amount\n",
    "            print(f\"Withdrew ₹{amount}. New balance: ₹{self.__balance}\")\n",
    "        else:\n",
    "            print(\"Insufficient funds or invalid amount.\")\n",
    "\n",
    "    def get_balance(self):\n",
    "        return self.__balance\n",
    "\n",
    "\n",
    "account = BankAccount(\"Amit\", 5000)\n",
    "print(account.get_balance())  # ✅ Allowed\n",
    "# print(account.__balance)      # ❌ Error: Attribute not accessible directly\n"
   ]
  },
  {
   "cell_type": "code",
   "execution_count": 64,
   "id": "23bdf77e-3b16-4213-a0ae-84dde5685293",
   "metadata": {},
   "outputs": [
    {
     "name": "stdout",
     "output_type": "stream",
     "text": [
      "Name: Amit, Position: Developer\n",
      "Name: Sara, Position: Designer\n",
      "Total Employees: 2\n"
     ]
    }
   ],
   "source": [
    "# Design a class `Employee` with instance and class variables. Add a method to track total employees.\n",
    "\n",
    "class Employee:\n",
    "    # Class variable to track total number of employees\n",
    "    total_employees = 0\n",
    "\n",
    "    def __init__(self, name, position):\n",
    "        # Instance variables\n",
    "        self.name = name\n",
    "        self.position = position\n",
    "\n",
    "        # Increment the class variable whenever a new employee is created\n",
    "        Employee.total_employees += 1\n",
    "\n",
    "    def display_info(self):\n",
    "        print(f\"Name: {self.name}, Position: {self.position}\")\n",
    "\n",
    "    @classmethod\n",
    "    def get_total_employees(cls):\n",
    "        return cls.total_employees\n",
    "\n",
    "# Creating employee objects\n",
    "emp1 = Employee(\"Amit\", \"Developer\")\n",
    "emp2 = Employee(\"Sara\", \"Designer\")\n",
    "\n",
    "# Displaying employee info\n",
    "emp1.display_info()\n",
    "emp2.display_info()\n",
    "\n",
    "# Getting total number of employees\n",
    "print(\"Total Employees:\", Employee.get_total_employees())\n"
   ]
  },
  {
   "cell_type": "code",
   "execution_count": 78,
   "id": "11a47298-f180-4365-aced-7b9576a189ae",
   "metadata": {},
   "outputs": [
    {
     "name": "stdout",
     "output_type": "stream",
     "text": [
      "Lines: 5\n",
      "Words: 5\n",
      "Characters: 82\n"
     ]
    }
   ],
   "source": [
    "# Write a Python program to read a text file and count the number of lines, words, and characters.\n",
    "\n",
    "def count_file_contents(filename):\n",
    "    try:\n",
    "        with open(filename, 'r', encoding='utf-8') as file:\n",
    "            lines = file.readlines()\n",
    "\n",
    "            line_count = len(lines)\n",
    "            word_count = sum(len(line.split()) for line in lines)\n",
    "            char_count = sum(len(line) for line in lines)\n",
    "\n",
    "            print(f\"Lines: {line_count}\")\n",
    "            print(f\"Words: {word_count}\")\n",
    "            print(f\"Characters: {char_count}\")\n",
    "\n",
    "    except FileNotFoundError:\n",
    "        print(\"File not found. Please check the filename and path.\")\n",
    "\n",
    "# Example usage\n",
    "filename = 'voter_data.txt'  # Replace with your file name\n",
    "count_file_contents(filename)\n"
   ]
  },
  {
   "cell_type": "code",
   "execution_count": 69,
   "id": "cd1809eb-0e13-4778-baa2-c07f2e72cbcd",
   "metadata": {},
   "outputs": [
    {
     "name": "stdout",
     "output_type": "stream",
     "text": [
      "Employee initialized: ID 101\n",
      "Manager initialized: Department Engineering\n",
      "Person initialized: Amit\n",
      "TeamLead initialized\n"
     ]
    }
   ],
   "source": [
    "# Explain the role of `super()` with multiple inheritance. Provide code.\n",
    "\n",
    "# In Python, the super() function is used to call methods from a parent or sibling class in a class hierarchy, especially useful in multiple inheritance scenarios. It ensures that the method resolution order (MRO) is followed correctly, avoiding redundant calls and maintaining consistency.\n",
    "\n",
    "class Person:\n",
    "    def __init__(self, name, **kwargs):\n",
    "        self.name = name\n",
    "        print(f\"Person initialized: {self.name}\")\n",
    "        super().__init__(**kwargs)\n",
    "\n",
    "class Employee(Person):\n",
    "    def __init__(self, emp_id, **kwargs):\n",
    "        self.emp_id = emp_id\n",
    "        print(f\"Employee initialized: ID {self.emp_id}\")\n",
    "        super().__init__(**kwargs)\n",
    "\n",
    "class Manager(Person):\n",
    "    def __init__(self, department, **kwargs):\n",
    "        self.department = department\n",
    "        print(f\"Manager initialized: Department {self.department}\")\n",
    "        super().__init__(**kwargs)\n",
    "\n",
    "class TeamLead(Employee, Manager):\n",
    "    def __init__(self, name, emp_id, department):\n",
    "        super().__init__(name=name, emp_id=emp_id, department=department)\n",
    "        print(\"TeamLead initialized\")\n",
    "\n",
    "\n",
    "lead = TeamLead(name=\"Amit\", emp_id=101, department=\"Engineering\")\n"
   ]
  },
  {
   "cell_type": "code",
   "execution_count": 71,
   "id": "b532b42b-8353-469d-9fca-2a48284f4537",
   "metadata": {},
   "outputs": [
    {
     "name": "stdout",
     "output_type": "stream",
     "text": [
      "Students at IIT Delhi:\n",
      "Student Name: Amit, Roll No: 101\n",
      "Student Name: Sara, Roll No: 102\n"
     ]
    }
   ],
   "source": [
    "# What are inner classes? Show a use case where they make sense.\n",
    "\n",
    "#In Python, an inner class (also called a nested class) is a class defined within another class. Inner classes are used when the nested class is only relevant in the context of the outer class, helping to logically group functionality and improve code organization.\n",
    "\n",
    "class University:\n",
    "    def __init__(self, name):\n",
    "        self.name = name\n",
    "        self.students = []\n",
    "\n",
    "    class Student:\n",
    "        def __init__(self, name, roll_no):\n",
    "            self.name = name\n",
    "            self.roll_no = roll_no\n",
    "\n",
    "        def display(self):\n",
    "            print(f\"Student Name: {self.name}, Roll No: {self.roll_no}\")\n",
    "\n",
    "    def add_student(self, name, roll_no):\n",
    "        student = self.Student(name, roll_no)\n",
    "        self.students.append(student)\n",
    "\n",
    "    def show_students(self):\n",
    "        print(f\"Students at {self.name}:\")\n",
    "        for student in self.students:\n",
    "            student.display()\n",
    "\n",
    "uni = University(\"IIT Delhi\")\n",
    "uni.add_student(\"Amit\", 101)\n",
    "uni.add_student(\"Sara\", 102)\n",
    "uni.show_students()\n",
    "          \n"
   ]
  },
  {
   "cell_type": "code",
   "execution_count": 73,
   "id": "544090b3-71b8-4341-8913-207d4b411d44",
   "metadata": {},
   "outputs": [
    {
     "name": "stdout",
     "output_type": "stream",
     "text": [
      "Second Largest: 15\n"
     ]
    }
   ],
   "source": [
    "# Write an efficient algorithm to find the second largest element in a list without sorting.\n",
    "\n",
    "def find_second_largest(nums):\n",
    "    if len(nums) < 2:\n",
    "        return None  # Not enough elements\n",
    "\n",
    "    first = second = float('-inf')\n",
    "\n",
    "    for num in nums:\n",
    "        if num > first:\n",
    "            second = first\n",
    "            first = num\n",
    "        elif first > num > second:\n",
    "            second = num\n",
    "\n",
    "    return second if second != float('-inf') else None\n",
    "\n",
    "numbers = [10, 5, 20, 8, 20, 15]\n",
    "result = find_second_largest(numbers)\n",
    "print(\"Second Largest:\", result)\n"
   ]
  },
  {
   "cell_type": "code",
   "execution_count": 74,
   "id": "47bad2d4-3066-4d05-8ae8-5bac879cb54c",
   "metadata": {},
   "outputs": [
    {
     "name": "stdout",
     "output_type": "stream",
     "text": [
      "Pair found: (10, 7)\n"
     ]
    }
   ],
   "source": [
    "# Given a list of integers, find the first pair whose sum is a target value using hashing.\n",
    "\n",
    "def find_pair_with_sum(nums, target):\n",
    "    seen = {}\n",
    "\n",
    "    for index, num in enumerate(nums):\n",
    "        complement = target - num\n",
    "        if complement in seen:\n",
    "            return (complement, num)\n",
    "        seen[num] = index\n",
    "\n",
    "    return None  # No pair found\n",
    "\n",
    "numbers = [10, 15, 3, 7]\n",
    "target = 17\n",
    "\n",
    "result = find_pair_with_sum(numbers, target)\n",
    "print(\"Pair found:\", result)\n"
   ]
  },
  {
   "cell_type": "code",
   "execution_count": 77,
   "id": "c009ccd1-e1f2-4add-8663-51574332d251",
   "metadata": {},
   "outputs": [
    {
     "name": "stdout",
     "output_type": "stream",
     "text": [
      "Odd: 1\n",
      "Even: 2\n",
      "Odd: 3\n",
      "Even: 4\n",
      "Odd: 5\n",
      "Even: 6\n",
      "Odd: 7\n",
      "Even: 8\n",
      "Odd: 9\n",
      "Even: 10\n"
     ]
    }
   ],
   "source": [
    "# Write multithreaded code in Python where two threads print odd and even numbers alternately.\n",
    "\n",
    "import threading\n",
    "\n",
    "class OddEvenPrinter:\n",
    "    def __init__(self, max_num):\n",
    "        self.max_num = max_num\n",
    "        self.num = 1\n",
    "        self.condition = threading.Condition()\n",
    "\n",
    "    def print_odd(self):\n",
    "        while self.num <= self.max_num:\n",
    "            with self.condition:\n",
    "                if self.num % 2 == 1:\n",
    "                    print(f\"Odd: {self.num}\")\n",
    "                    self.num += 1\n",
    "                    self.condition.notify()\n",
    "                else:\n",
    "                    self.condition.wait()\n",
    "\n",
    "    def print_even(self):\n",
    "        while self.num <= self.max_num:\n",
    "            with self.condition:\n",
    "                if self.num % 2 == 0:\n",
    "                    print(f\"Even: {self.num}\")\n",
    "                    self.num += 1\n",
    "                    self.condition.notify()\n",
    "                else:\n",
    "                    self.condition.wait()\n",
    "\n",
    "# Create the printer object\n",
    "printer = OddEvenPrinter(10)\n",
    "\n",
    "# Create threads\n",
    "t1 = threading.Thread(target=printer.print_odd)\n",
    "t2 = threading.Thread(target=printer.print_even)\n",
    "\n",
    "# Start threads\n",
    "t1.start()\n",
    "t2.start()\n",
    "\n",
    "# Wait for both threads to finish\n",
    "t1.join()\n",
    "t2.join()\n"
   ]
  },
  {
   "cell_type": "code",
   "execution_count": 79,
   "id": "513b1ffb-fd10-4426-b7ad-e575faba00e3",
   "metadata": {},
   "outputs": [
    {
     "name": "stdout",
     "output_type": "stream",
     "text": [
      "Department\n",
      "Finance    59000.0\n",
      "HR         51000.0\n",
      "IT         61000.0\n",
      "Name: Salary, dtype: float64\n"
     ]
    }
   ],
   "source": [
    "# Write code using Pandas to group data by a column and compute the mean.\n",
    "\n",
    "\n",
    "import pandas as pd\n",
    "\n",
    "# Sample data\n",
    "data = {\n",
    "    'Department': ['HR', 'IT', 'HR', 'Finance', 'IT', 'Finance'],\n",
    "    'Salary': [50000, 60000, 52000, 58000, 62000, 60000]\n",
    "}\n",
    "\n",
    "# Create DataFrame\n",
    "df = pd.DataFrame(data)\n",
    "\n",
    "# Group by 'Department' and compute mean salary\n",
    "mean_salary = df.groupby('Department')['Salary'].mean()\n",
    "\n",
    "print(mean_salary)\n"
   ]
  },
  {
   "cell_type": "code",
   "execution_count": 84,
   "id": "2049999e-2fce-4b29-875b-709713b358f2",
   "metadata": {},
   "outputs": [
    {
     "name": "stdout",
     "output_type": "stream",
     "text": [
      "{'rank': 'Prof', 'discipline': 'B', 'phd': '56', 'service': '49', 'sex': 'Male', 'salary': '186960'}\n",
      "{'rank': 'Prof', 'discipline': 'A', 'phd': '40', 'service': '31', 'sex': 'Male', 'salary': '131205'}\n",
      "{'rank': 'Prof', 'discipline': 'A', 'phd': '51', 'service': '51', 'sex': 'Male', 'salary': '57800'}\n",
      "{'rank': 'Prof', 'discipline': 'B', 'phd': '39', 'service': '33', 'sex': 'Male', 'salary': '128250'}\n",
      "{'rank': 'Prof', 'discipline': 'B', 'phd': '35', 'service': '33', 'sex': 'Male', 'salary': '162200'}\n",
      "{'rank': 'Prof', 'discipline': 'B', 'phd': '35', 'service': '31', 'sex': 'Male', 'salary': '99418'}\n",
      "{'rank': 'Prof', 'discipline': 'A', 'phd': '45', 'service': '43', 'sex': 'Male', 'salary': '155865'}\n",
      "{'rank': 'Prof', 'discipline': 'B', 'phd': '45', 'service': '45', 'sex': 'Male', 'salary': '146856'}\n",
      "{'rank': 'Prof', 'discipline': 'A', 'phd': '39', 'service': '36', 'sex': 'Female', 'salary': '137000'}\n"
     ]
    }
   ],
   "source": [
    "# Given a CSV file, write a Python function using `csv` module to filter rows where age > 30.\n",
    "\n",
    "import csv\n",
    "\n",
    "def service_above_30(filename):\n",
    "    with open(filename, mode='r', newline='', encoding='utf-8') as file:\n",
    "        reader = csv.DictReader(file)\n",
    "        filtered_rows = [\n",
    "            row for row in reader\n",
    "            if row['service'].strip().isdigit() and int(row['service']) > 30\n",
    "        ]\n",
    "    return filtered_rows\n",
    "\n",
    "# Example usage\n",
    "filtered = service_above_30('Salaries.csv')\n",
    "for row in filtered:\n",
    "    print(row)\n",
    "\n",
    "\n"
   ]
  },
  {
   "cell_type": "code",
   "execution_count": 87,
   "id": "7d49d452-db2d-408f-9f2f-8dd3857e0194",
   "metadata": {},
   "outputs": [
    {
     "name": "stdout",
     "output_type": "stream",
     "text": [
      "1+2+3-4+5+6+78+9\n",
      "1+2+34-5+67-8+9\n",
      "1+23-4+5+6+78-9\n",
      "1+23-4+56+7+8+9\n",
      "12+3+4+5-6-7+89\n",
      "12+3-4+5+67+8+9\n",
      "12-3-4+5-6+7+89\n",
      "123+4-5+67-89\n",
      "123+45-67+8-9\n",
      "123-4-5-6-7+8-9\n",
      "123-45-67+89\n"
     ]
    }
   ],
   "source": [
    "# You're given a string of digits (0–9). Insert operators `+`, `-`, or nothing between digits so that the result evaluates to a target value (e.g., 100).\n",
    "# Return all expressions that match.\n",
    "\n",
    " \n",
    "def add_operators_to_reach_target(digits, target):\n",
    "    results = set()  # Use a set to avoid duplicates\n",
    "\n",
    "    def backtrack(index, path, value, prev):\n",
    "        if index == len(digits):\n",
    "            if value == target:\n",
    "                results.add(path)\n",
    "            return\n",
    "\n",
    "        for i in range(index + 1, len(digits) + 1):\n",
    "            num_str = digits[index:i]\n",
    "            if len(num_str) > 1 and num_str[0] == '0':\n",
    "                continue  # Skip numbers with leading zeros\n",
    "\n",
    "            num = int(num_str)\n",
    "\n",
    "            if index == 0:\n",
    "                # First number, no operator\n",
    "                backtrack(i, num_str, num, num)\n",
    "            else:\n",
    "                # Addition\n",
    "                backtrack(i, path + '+' + num_str, value + num, num)\n",
    "                # Subtraction\n",
    "                backtrack(i, path + '-' + num_str, value - num, -num)\n",
    "                # Concatenation (no operator)\n",
    "                new_prev = int(str(prev) + num_str) if prev >= 0 else -int(str(-prev) + num_str)\n",
    "                new_value = value - prev + new_prev\n",
    "                backtrack(i, path + num_str, new_value, new_prev)\n",
    "\n",
    "    backtrack(0, '', 0, 0)\n",
    "    return sorted(results)\n",
    "\n",
    "# Example usage\n",
    "digits = \"123456789\"\n",
    "target = 100\n",
    "expressions = add_operators_to_reach_target(digits, target)\n",
    "\n",
    "# Print results\n",
    "for expr in expressions:\n",
    "    print(expr)\n",
    "\n",
    "\n"
   ]
  },
  {
   "cell_type": "code",
   "execution_count": null,
   "id": "65d20a09-f092-4f75-bcc8-659f6181822e",
   "metadata": {},
   "outputs": [],
   "source": []
  }
 ],
 "metadata": {
  "kernelspec": {
   "display_name": "Python 3 (ipykernel)",
   "language": "python",
   "name": "python3"
  },
  "language_info": {
   "codemirror_mode": {
    "name": "ipython",
    "version": 3
   },
   "file_extension": ".py",
   "mimetype": "text/x-python",
   "name": "python",
   "nbconvert_exporter": "python",
   "pygments_lexer": "ipython3",
   "version": "3.13.3"
  }
 },
 "nbformat": 4,
 "nbformat_minor": 5
}
