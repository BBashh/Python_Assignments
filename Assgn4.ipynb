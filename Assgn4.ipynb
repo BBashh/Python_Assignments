{
 "cells": [
  {
   "cell_type": "code",
   "execution_count": 3,
   "id": "99c35874-6c52-4dea-9c24-df36755a70a3",
   "metadata": {},
   "outputs": [
    {
     "name": "stdout",
     "output_type": "stream",
     "text": [
      "Factorial of 4 is: 24\n"
     ]
    }
   ],
   "source": [
    "# Q1. Define a function to calculate the factorial of a number (using recursion).\n",
    "\n",
    "def factorial(n):\n",
    "\n",
    "  if n == 0 or n == 1:\n",
    "      return 1\n",
    "      \n",
    "  return n * factorial(n - 1)\n",
    "print(\"Factorial of 4 is:\", factorial(4))"
   ]
  },
  {
   "cell_type": "code",
   "execution_count": 4,
   "id": "7c05cc80-6add-411e-87ea-c3d34bd7c1af",
   "metadata": {},
   "outputs": [
    {
     "name": "stdout",
     "output_type": "stream",
     "text": [
      "Average is: 78.0\n"
     ]
    }
   ],
   "source": [
    "# Q2. Write a function that accepts any number of numbers using *args and returns their average.\n",
    "\n",
    "def average(*args):\n",
    "    return sum(args) / len(args)\n",
    "print(\"Average is:\", average(92,64,78))"
   ]
  },
  {
   "cell_type": "code",
   "execution_count": 5,
   "id": "75fc483d-d381-47aa-93ac-1b5b6a0a408d",
   "metadata": {},
   "outputs": [
    {
     "name": "stdout",
     "output_type": "stream",
     "text": [
      "Hello, Bob. You are 44 years old.\n"
     ]
    }
   ],
   "source": [
    "# Q3. Create a function that accepts name and age (using keyword arguments) and prints a message.\n",
    "\n",
    "def greet(name, age):\n",
    "    print(f\"Hello, {name}. You are {age} years old.\")\n",
    "\n",
    "greet(age=44, name=\"Bob\")"
   ]
  },
  {
   "cell_type": "code",
   "execution_count": 6,
   "id": "2276e6bd-7509-436f-9091-59ca7e872ed2",
   "metadata": {},
   "outputs": [
    {
     "name": "stdout",
     "output_type": "stream",
     "text": [
      "[1, 4, 9, 16]\n"
     ]
    }
   ],
   "source": [
    "# Q4. Write a function that takes a list and returns a list with squared values using map().\n",
    "\n",
    "def square(x):\n",
    "    return x ** 2\n",
    "\n",
    "def square_list(lst):\n",
    "    return list(map(square, lst))\n",
    "\n",
    "print(square_list([1, 2, 3, 4]))"
   ]
  },
  {
   "cell_type": "code",
   "execution_count": 7,
   "id": "8bbeff14-a6c2-4e5d-bbff-02e22bf4ca47",
   "metadata": {},
   "outputs": [
    {
     "name": "stdout",
     "output_type": "stream",
     "text": [
      "Even numbers: [2, 4, 6]\n"
     ]
    }
   ],
   "source": [
    "# Q5. Demonstrate the use of filter() to extract even numbers from a list.\n",
    "\n",
    "def is_even(x):\n",
    "    return x % 2 == 0\n",
    "\n",
    "nums = [1, 2, 3, 4, 5, 6]\n",
    "even = list(filter(is_even, nums))\n",
    "print(\"Even numbers:\", even)"
   ]
  },
  {
   "cell_type": "code",
   "execution_count": 10,
   "id": "da2b91bf-fb87-4bc0-b447-2de4d9f4a3da",
   "metadata": {},
   "outputs": [
    {
     "name": "stdout",
     "output_type": "stream",
     "text": [
      "Max: 9\n",
      "Min: 1\n"
     ]
    }
   ],
   "source": [
    "# Q6. Create a function that returns both the max and min of a list (returning multiple values).\n",
    "\n",
    "def get_max_min(a):\n",
    "    return max(a), min(a)\n",
    "\n",
    "maximum, minimum = get_max_min([4, 7, 1, 9])\n",
    "\n",
    "print(\"Max:\", maximum)\n",
    "\n",
    "print(\"Min:\", minimum)"
   ]
  },
  {
   "cell_type": "code",
   "execution_count": 11,
   "id": "66d223dd-e442-4733-b0d4-bb1197773d29",
   "metadata": {},
   "outputs": [
    {
     "name": "stdout",
     "output_type": "stream",
     "text": [
      "Value of x: 9\n"
     ]
    }
   ],
   "source": [
    "# Q7. Show an example of local and global variable conflict, and use global keyword to resolve it.\n",
    "\n",
    "x = 2\n",
    "\n",
    "def change():\n",
    "    global x\n",
    "    x = 9\n",
    "\n",
    "change()\n",
    "\n",
    "print(\"Value of x:\", x)"
   ]
  },
  {
   "cell_type": "code",
   "execution_count": 12,
   "id": "8fbfaa96-15e8-4d96-9d9f-5dab88099cc9",
   "metadata": {},
   "outputs": [
    {
     "name": "stdout",
     "output_type": "stream",
     "text": [
      "[('Alice', 85), ('Bob', 90), ('Charlie', 95)]\n"
     ]
    }
   ],
   "source": [
    "# Q8. Use zip() to combine two lists: one of names and one of scores.\n",
    "\n",
    "names = [\"Alice\", \"Bob\", \"Charlie\"]\n",
    "\n",
    "scores = [85, 90, 95]\n",
    "\n",
    "combined = list(zip(names, scores))\n",
    "\n",
    "print(combined)"
   ]
  },
  {
   "cell_type": "code",
   "execution_count": 13,
   "id": "3173628b-a65c-4efe-8f68-8eb7c8998620",
   "metadata": {},
   "outputs": [
    {
     "name": "stdout",
     "output_type": "stream",
     "text": [
      "Square root of 77 is 8.774964387392123\n"
     ]
    }
   ],
   "source": [
    "# Q9. Import the math module and use math.sqrt() inside a function.\n",
    "\n",
    "import math\n",
    "\n",
    "def sqrtt(n):\n",
    "    print(\"Square root of\", n, \"is\", math.sqrt(n))\n",
    "\n",
    "sqrtt(77)"
   ]
  }
 ],
 "metadata": {
  "kernelspec": {
   "display_name": "Python 3 (ipykernel)",
   "language": "python",
   "name": "python3"
  },
  "language_info": {
   "codemirror_mode": {
    "name": "ipython",
    "version": 3
   },
   "file_extension": ".py",
   "mimetype": "text/x-python",
   "name": "python",
   "nbconvert_exporter": "python",
   "pygments_lexer": "ipython3",
   "version": "3.13.3"
  }
 },
 "nbformat": 4,
 "nbformat_minor": 5
}
