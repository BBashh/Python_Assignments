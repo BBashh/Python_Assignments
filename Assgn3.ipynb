{
 "cells": [
  {
   "cell_type": "code",
   "execution_count": 3,
   "id": "af1b6c78-f920-4fb4-a16c-ccb020670ff3",
   "metadata": {},
   "outputs": [
    {
     "name": "stdin",
     "output_type": "stream",
     "text": [
      "enter number -98\n"
     ]
    },
    {
     "name": "stdout",
     "output_type": "stream",
     "text": [
      "negative\n"
     ]
    }
   ],
   "source": [
    " # 1. Write a program to check if a number is positive, negative, or zero using if…elif…else.\n",
    "\n",
    "a=int(input(\"enter number\"))\n",
    "if a == 0:\n",
    "    print(\"zero\")\n",
    "elif a > 0:\n",
    "    print(\"positive\")\n",
    "else:\n",
    "    print(\"negative\")"
   ]
  },
  {
   "cell_type": "code",
   "execution_count": 4,
   "id": "7d47bc6a-d606-420a-ac0e-10ec133a445f",
   "metadata": {},
   "outputs": [
    {
     "name": "stdout",
     "output_type": "stream",
     "text": [
      "1\n",
      "2\n",
      "3\n",
      "4\n",
      "5\n",
      "6\n",
      "7\n",
      "8\n",
      "9\n",
      "10\n"
     ]
    }
   ],
   "source": [
    "# 2. Write a program to print numbers from 1 to 10 using a while loop.\n",
    "\n",
    "i = 1\n",
    "while i <= 10:\n",
    "    print(i)\n",
    "    i += 1"
   ]
  },
  {
   "cell_type": "code",
   "execution_count": 7,
   "id": "acef8f31-e5fe-44f9-8b74-11dc78a00b66",
   "metadata": {},
   "outputs": [
    {
     "name": "stdout",
     "output_type": "stream",
     "text": [
      "1\n",
      "4\n",
      "2\n",
      "3\n",
      "5\n",
      "9\n"
     ]
    }
   ],
   "source": [
    "# 3. Write a program using a for loop to print the elements of a list.\n",
    "\n",
    "\n",
    "a=[1,4,2,3,5,9]\n",
    "\n",
    "for i in a:\n",
    "    print(i)"
   ]
  },
  {
   "cell_type": "code",
   "execution_count": 9,
   "id": "d59e3d95-a013-41ed-a8b7-d374ceb963b7",
   "metadata": {},
   "outputs": [
    {
     "name": "stdout",
     "output_type": "stream",
     "text": [
      "Iteration: 1\n",
      "Iteration: 2\n",
      "Iteration: 3\n",
      "Iteration: 4\n",
      "Iteration: 5\n"
     ]
    }
   ],
   "source": [
    "# 4. Write a program to demonstrate an infinite loop with a while True and break after 5 iterations.\n",
    "\n",
    "count = 0\n",
    "while True:\n",
    "    print(\"Iteration:\", count + 1)\n",
    "    count += 1\n",
    "    if count == 5:\n",
    "      break"
   ]
  },
  {
   "cell_type": "code",
   "execution_count": 13,
   "id": "c117ee11-e785-4a4f-b705-7ed69014e641",
   "metadata": {},
   "outputs": [
    {
     "name": "stdout",
     "output_type": "stream",
     "text": [
      "* * * \n",
      "* * * \n",
      "* * * \n"
     ]
    }
   ],
   "source": [
    "# 5. Create a nested loop that prints a 3x3 grid of *.\n",
    "\n",
    "for i in range(3):\n",
    "   for j in range(3):\n",
    "       print(\"*\", end=\" \")\n",
    "   print()"
   ]
  },
  {
   "cell_type": "code",
   "execution_count": 16,
   "id": "7aae1027-12cd-4d65-8425-e02ea7853fad",
   "metadata": {},
   "outputs": [
    {
     "name": "stdout",
     "output_type": "stream",
     "text": [
      "1\n",
      "3\n",
      "5\n",
      "7\n",
      "9\n"
     ]
    }
   ],
   "source": [
    "# 6. Use the continue statement to skip even numbers from 1 to 10.\n",
    "\n",
    "for i in range(1,11):\n",
    "    if i%2==0:\n",
    "        continue\n",
    "    else:\n",
    "        print(i)"
   ]
  },
  {
   "cell_type": "code",
   "execution_count": 19,
   "id": "e1799bb2-72c2-48b7-8867-750a61007a52",
   "metadata": {},
   "outputs": [
    {
     "name": "stdout",
     "output_type": "stream",
     "text": [
      "The number is positive.\n"
     ]
    }
   ],
   "source": [
    "# 7. Write a function that uses assert to check if a number is positive.\n",
    "\n",
    "def check_positive(num):\n",
    "    assert num > 0, \"Number is not positive\"\n",
    "    print(\"The number is positive.\")\n",
    "\n",
    "check_positive(3)"
   ]
  },
  {
   "cell_type": "code",
   "execution_count": 20,
   "id": "dced6036-6608-4017-8b7d-5878fe523e9c",
   "metadata": {},
   "outputs": [
    {
     "name": "stdin",
     "output_type": "stream",
     "text": [
      "Enter first number:  4\n",
      "Enter second number:  9\n",
      "Enter operation (add/subtract/multiply):  subtract\n"
     ]
    },
    {
     "name": "stdout",
     "output_type": "stream",
     "text": [
      "Result: -5.0\n"
     ]
    }
   ],
   "source": [
    "# 8. Use a match-case to simulate a simple calculator (add, subtract, multiply).\n",
    "\n",
    "a = float(input(\"Enter first number: \"))\n",
    "b = float(input(\"Enter second number: \"))\n",
    "\n",
    "choose = input(\"Enter operation (add/subtract/multiply): \")\n",
    "match choose:\n",
    "    case \"add\":\n",
    "        print(\"Result:\", a + b)\n",
    "    case \"subtract\":\n",
    "        print(\"Result:\", a - b)\n",
    "    case \"multiply\":\n",
    "        print(\"Result:\", a * b)\n",
    "    case _:\n",
    "        print(\"Invalid operation.\")"
   ]
  },
  {
   "cell_type": "code",
   "execution_count": 21,
   "id": "2af8e654-412b-4964-af3d-fbb8a11a410a",
   "metadata": {},
   "outputs": [],
   "source": [
    "# 9. Use the pass statement in a placeholder function called process().\n",
    "def process():\n",
    "    pass\n",
    "process()"
   ]
  },
  {
   "cell_type": "code",
   "execution_count": 34,
   "id": "99bb1674-692c-479f-a1ff-44c9851304c4",
   "metadata": {},
   "outputs": [
    {
     "name": "stdout",
     "output_type": "stream",
     "text": [
      "*\n",
      "**\n",
      "***\n",
      "****\n",
      "*****\n"
     ]
    }
   ],
   "source": [
    "for i in range(1, 6):\n",
    "    print(\"*\" * i)"
   ]
  },
  {
   "cell_type": "code",
   "execution_count": 32,
   "id": "706bb2df-b70d-479a-a611-63377f1a48f7",
   "metadata": {},
   "outputs": [
    {
     "name": "stdout",
     "output_type": "stream",
     "text": [
      "*****\n",
      "****\n",
      "***\n",
      "**\n",
      "*\n"
     ]
    }
   ],
   "source": [
    "for i in range(5, 0, -1): # creates a sequence starting from 5 down to 1 \n",
    "      print(\"*\" * i)      # (not including 0), decrementing by -1."
   ]
  },
  {
   "cell_type": "code",
   "execution_count": 25,
   "id": "627634fa-61df-4212-bc59-871aed2a6857",
   "metadata": {},
   "outputs": [
    {
     "name": "stdout",
     "output_type": "stream",
     "text": [
      "    *\n",
      "   ***\n",
      "  *****\n",
      " *******\n",
      "*********\n"
     ]
    }
   ],
   "source": [
    "rows = 5\n",
    "for i in range(rows):\n",
    "    spaces = \" \" * (rows - i - 1)\n",
    "    stars = \"*\" * (2 * i + 1)\n",
    "    print(spaces + stars)"
   ]
  },
  {
   "cell_type": "code",
   "execution_count": 29,
   "id": "02247fe0-31e2-476d-ba99-fca8f32503ef",
   "metadata": {},
   "outputs": [
    {
     "name": "stdout",
     "output_type": "stream",
     "text": [
      "1\n",
      "12\n",
      "123\n",
      "1234\n",
      "12345\n"
     ]
    }
   ],
   "source": [
    "for i in range(1, 6):\n",
    "    for j in range(1, i + 1):\n",
    "        print(j, end=\"\")\n",
    "    print()"
   ]
  }
 ],
 "metadata": {
  "kernelspec": {
   "display_name": "Python 3 (ipykernel)",
   "language": "python",
   "name": "python3"
  },
  "language_info": {
   "codemirror_mode": {
    "name": "ipython",
    "version": 3
   },
   "file_extension": ".py",
   "mimetype": "text/x-python",
   "name": "python",
   "nbconvert_exporter": "python",
   "pygments_lexer": "ipython3",
   "version": "3.13.3"
  }
 },
 "nbformat": 4,
 "nbformat_minor": 5
}
