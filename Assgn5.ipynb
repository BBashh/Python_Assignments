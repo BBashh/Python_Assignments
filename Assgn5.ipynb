{
 "cells": [
  {
   "cell_type": "code",
   "execution_count": 4,
   "id": "4ad61cbc-a4da-4656-8928-9da914231214",
   "metadata": {},
   "outputs": [
    {
     "name": "stdout",
     "output_type": "stream",
     "text": [
      "Apple is a fruit.\n",
      "Orange juice is tasty.\n",
      "Umbrellas are useful in rain.\n",
      "Elephants are large animals.\n"
     ]
    }
   ],
   "source": [
    "# Q1: Write a program that creates a text file log.txt, writes 5 lines to it, then reopens\n",
    "#     it and reads only lines that start with a vowel. \n",
    "\n",
    "# Step 1: Create and write to the file\n",
    "with open(\"log.txt\", \"w\") as file:\n",
    "    lines_to_write = [\n",
    "        \"Apple is a fruit.\\n\",\n",
    "        \"Banana is yellow.\\n\",\n",
    "        \"Orange juice is tasty.\\n\",\n",
    "        \"Umbrellas are useful in rain.\\n\",\n",
    "        \"Elephants are large animals.\\n\"\n",
    "    ]\n",
    "    file.writelines(lines_to_write)\n",
    "\n",
    "# Step 2: Reopen and read lines starting with a vowel\n",
    "vowels = ('A', 'E', 'I', 'O', 'U')\n",
    "with open(\"log.txt\", \"r\") as file:\n",
    "    for line in file:\n",
    "        if line[0].upper() in vowels:\n",
    "            print(line.strip())\n"
   ]
  },
  {
   "cell_type": "code",
   "execution_count": 6,
   "id": "82ad10ad-c71d-4059-96ce-9685dd63f050",
   "metadata": {},
   "outputs": [
    {
     "name": "stdout",
     "output_type": "stream",
     "text": [
      "File content:\n",
      " Apple is a fruit.\n",
      "Banana is yellow.\n",
      "Orange juice is tasty.\n",
      "Umbrellas are useful in rain.\n",
      "Elephants are large animals.\n",
      "\n",
      "File closed successfully.\n"
     ]
    }
   ],
   "source": [
    "# Q2: Without using with, write a Python program to open a file, \n",
    "#     read its content, and properly close it using try-finally.\n",
    "\n",
    "\n",
    "# Step 1: Open the file using open()\n",
    "file = open(\"log.txt\", \"r\")\n",
    "\n",
    "try:\n",
    "    # Step 2: Read the content\n",
    "    content = file.read()\n",
    "    print(\"File content:\\n\", content)\n",
    "finally:\n",
    "    # Step 3: Ensure the file is closed\n",
    "    file.close()\n",
    "    print(\"File closed successfully.\")\n"
   ]
  },
  {
   "cell_type": "code",
   "execution_count": 8,
   "id": "12c9641d-5920-45b1-ae7f-9d1c9ea0b8c7",
   "metadata": {},
   "outputs": [
    {
     "name": "stdout",
     "output_type": "stream",
     "text": [
      "Temporary file created at: C:\\Users\\BIBASH~1.TAN\\AppData\\Local\\Temp\\tmp8gelzs3u\n"
     ]
    }
   ],
   "source": [
    "# Q3: Create a temporary file using the tempfile module, \n",
    "#     write binary data into it, and print its path. \n",
    "#     Ensure the file is not deleted on closing.\n",
    "\n",
    "\n",
    "import tempfile\n",
    "\n",
    "# Step 1: Create a temporary file that is not deleted on close\n",
    "temp_file = tempfile.NamedTemporaryFile(delete=False)\n",
    "\n",
    "try:\n",
    "    # Step 2: Write binary data to the file\n",
    "    binary_data = b'\\xDE\\xAD\\xBE\\xEF'  # Example binary data\n",
    "    temp_file.write(binary_data)\n",
    "    temp_file.flush()  # Ensure data is written to disk\n",
    "\n",
    "    # Step 3: Print the file path\n",
    "    print(\"Temporary file created at:\", temp_file.name)\n",
    "\n",
    "finally:\n",
    "    # Step 4: Close the file manually\n",
    "    temp_file.close()\n"
   ]
  },
  {
   "cell_type": "code",
   "execution_count": 9,
   "id": "31a72d4e-61f5-48e3-958a-b69166c80184",
   "metadata": {},
   "outputs": [
    {
     "name": "stdout",
     "output_type": "stream",
     "text": [
      "Total number of lines: 5\n",
      "Words per line:\n",
      "Line 1: 4 words\n",
      "Line 2: 3 words\n",
      "Line 3: 4 words\n",
      "Line 4: 5 words\n",
      "Line 5: 4 words\n",
      "Total number of uppercase letters: 5\n"
     ]
    }
   ],
   "source": [
    "# Q4: Write a program that reads a file and counts:\n",
    "#    · Number of lines\n",
    "#    · Number of words per line\n",
    "#    · Number of uppercase letters in the entire file\n",
    "\n",
    "# Open the file in read mode\n",
    "file_path = \"log.txt\"  # You can change this to any file you want to analyze\n",
    "try:\n",
    "    file = open(file_path, \"r\")\n",
    "    lines = file.readlines()\n",
    "\n",
    "    # Count number of lines\n",
    "    num_lines = len(lines)\n",
    "    print(f\"Total number of lines: {num_lines}\")\n",
    "\n",
    "    # Count number of words per line\n",
    "    print(\"Words per line:\")\n",
    "    for i, line in enumerate(lines, start=1):\n",
    "        word_count = len(line.split())\n",
    "        print(f\"Line {i}: {word_count} words\")\n",
    "\n",
    "    # Count uppercase letters in the entire file\n",
    "    uppercase_count = sum(char.isupper() for line in lines for char in line)\n",
    "    print(f\"Total number of uppercase letters: {uppercase_count}\")\n",
    "\n",
    "finally:\n",
    "    file.close()\n"
   ]
  },
  {
   "cell_type": "code",
   "execution_count": 1,
   "id": "80369a4d-e76a-4eb9-b794-f3d12e1c5358",
   "metadata": {},
   "outputs": [],
   "source": [
    "# Q5: Write a Python function that checks if a file exists:\n",
    "#   *  If it exists, append the current datetime to it.\n",
    "#   *  If it does not, create it and write \"New File Created\".\n",
    "\n",
    "\n",
    "import os\n",
    "from datetime import datetime\n",
    "\n",
    "def check_and_update_file(file_path):\n",
    "    if os.path.exists(file_path):\n",
    "        # File exists: append current datetime\n",
    "        with open(file_path, \"a\") as file:\n",
    "            current_time = datetime.now().strftime(\"%Y-%m-%d %H:%M:%S\")\n",
    "            file.write(f\"\\nAppended datetime: {current_time}\")\n",
    "        print(f\"Datetime appended to existing file: {file_path}\")\n",
    "    else:\n",
    "        # File does not exist: create and write message\n",
    "        with open(file_path, \"w\") as file:\n",
    "            file.write(\"New File Created\")\n",
    "        print(f\"New file created: {file_path}\")\n"
   ]
  },
  {
   "cell_type": "code",
   "execution_count": 3,
   "id": "8308a0e9-e57e-4436-a796-4c3c3fd3526a",
   "metadata": {},
   "outputs": [
    {
     "name": "stdin",
     "output_type": "stream",
     "text": [
      "enter string here hi there how are you\n"
     ]
    },
    {
     "name": "stdout",
     "output_type": "stream",
     "text": [
      "Read from binary file: hi there how are you\n"
     ]
    }
   ],
   "source": [
    "# Q6: Write a program that:\n",
    "#   · Accepts a string input from the user\n",
    "#   · Saves it to a binary file using wb mode\n",
    "#   · Then reads it back and prints the data\n",
    "\n",
    "# Step 1: Accept a string input from the user\n",
    "user_input=input(\"enter string here\")\n",
    "\n",
    "# Step 2: Save the string to a binary file using 'wb' mode\n",
    "with open(\"binary_data.bin\", \"wb\") as binary_file:\n",
    "    binary_file.write(user_input.encode(\"utf-8\"))\n",
    "\n",
    "# Step 3: Read the binary file using 'rb' mode and print the data\n",
    "with open(\"binary_data.bin\", \"rb\") as binary_file:\n",
    "    read_data = binary_file.read()\n",
    "    print(\"Read from binary file:\", read_data.decode(\"utf-8\"))\n",
    "\n"
   ]
  },
  {
   "cell_type": "code",
   "execution_count": 4,
   "id": "8d614fd6-573c-4e6c-aebe-6fa7ce22833a",
   "metadata": {},
   "outputs": [
    {
     "name": "stdout",
     "output_type": "stream",
     "text": [
      "\n",
      "--- Using with open() ---\n",
      "File opened with 'with'\n",
      "Caught exception: Simulated error inside with block\n",
      "File is automatically closed after 'with' block\n",
      "\n",
      "--- Using open() without with ---\n",
      "File opened without 'with'\n",
      "Caught exception: Simulated error without with block\n",
      "File is still open, closing manually...\n",
      "File closed manually if needed\n"
     ]
    }
   ],
   "source": [
    "# Q7: Explain why with is preferred for file operations. \n",
    "#     Write a program that compares behavior of with open() vs open() \n",
    "#     without with when an exception occurs in file operations.\n",
    "\n",
    "# Using with open(...) as file: is preferred because:\n",
    "\n",
    "# Automatic Resource Management: It ensures the file is closed properly, \n",
    "# even if an error occurs.\n",
    "# Cleaner Syntax: Reduces boilerplate code and improves readability.\n",
    "# Exception Safety:Prevents resource leaks by handling exceptions gracefully.\n",
    "# Scoped Usage: Limits the file object’s scope to the block, reducing accidental misuse.\n",
    "\n",
    "\n",
    "\n",
    "import os\n",
    "\n",
    "# File path\n",
    "file_path = \"test_file.txt\"\n",
    "\n",
    "# Create a sample file\n",
    "with open(file_path, \"w\") as f:\n",
    "    f.write(\"Sample content\")\n",
    "\n",
    "print(\"\\n--- Using with open() ---\")\n",
    "try:\n",
    "    with open(file_path, \"r\") as file:\n",
    "        print(\"File opened with 'with'\")\n",
    "        raise Exception(\"Simulated error inside with block\")\n",
    "except Exception as e:\n",
    "    print(\"Caught exception:\", e)\n",
    "print(\"File is automatically closed after 'with' block\")\n",
    "\n",
    "print(\"\\n--- Using open() without with ---\")\n",
    "try:\n",
    "    file = open(file_path, \"r\")\n",
    "    print(\"File opened without 'with'\")\n",
    "    raise Exception(\"Simulated error without with block\")\n",
    "    file.close()  # This line is never reached if exception occurs\n",
    "except Exception as e:\n",
    "    print(\"Caught exception:\", e)\n",
    "    # File may not be closed properly here\n",
    "    if not file.closed:\n",
    "        print(\"File is still open, closing manually...\")\n",
    "        file.close()\n",
    "print(\"File closed manually if needed\")\n"
   ]
  },
  {
   "cell_type": "code",
   "execution_count": 5,
   "id": "7900de15-c81f-41c4-9260-b04cb4fd7bbd",
   "metadata": {},
   "outputs": [
    {
     "name": "stdout",
     "output_type": "stream",
     "text": [
      "Students above 18 years of age:\n",
      "Bob (Age: 19, Grade: 12)\n",
      "Charlie (Age: 20, Grade: College)\n"
     ]
    }
   ],
   "source": [
    "# Q8: Serialize a Python dictionary of 3 student records using pickle into a .pkl file.\n",
    "#     Then deserialize and print only students above 18 years of age.\n",
    "\n",
    "\n",
    "import pickle\n",
    "\n",
    "# Step 1: Create a dictionary with 3 student records\n",
    "students = {\n",
    "    \"student1\": {\"name\": \"Alice\", \"age\": 17, \"grade\": \"11\"},\n",
    "    \"student2\": {\"name\": \"Bob\", \"age\": 19, \"grade\": \"12\"},\n",
    "    \"student3\": {\"name\": \"Charlie\", \"age\": 20, \"grade\": \"College\"}\n",
    "}\n",
    "\n",
    "# Step 2: Serialize the dictionary into a .pkl file\n",
    "with open(\"students.pkl\", \"wb\") as file:\n",
    "    pickle.dump(students, file)\n",
    "\n",
    "# Step 3: Deserialize the .pkl file\n",
    "with open(\"students.pkl\", \"rb\") as file:\n",
    "    loaded_students = pickle.load(file)\n",
    "\n",
    "# Step 4: Print only students above 18 years of age\n",
    "print(\"Students above 18 years of age:\")\n",
    "for key, student in loaded_students.items():\n",
    "    if student[\"age\"] > 18:\n",
    "        print(f\"{student['name']} (Age: {student['age']}, Grade: {student['grade']})\")\n",
    "\n"
   ]
  },
  {
   "cell_type": "code",
   "execution_count": 6,
   "id": "3c22f65e-ef0d-46f5-bd78-9f0514933b80",
   "metadata": {},
   "outputs": [
    {
     "name": "stdout",
     "output_type": "stream",
     "text": [
      "First 10 characters: This is a \n",
      "Cursor position after seek(): 0\n"
     ]
    }
   ],
   "source": [
    "# Q9: Write a program that:\n",
    "#   · Opens a file\n",
    "#   · Reads first 10 characters\n",
    "#   · Moves the cursor to the beginning using seek()\n",
    "#   · Then prints the cursor position using tell()\n",
    "\n",
    "# Define the file path\n",
    "file_path = \"sample_text.txt\"\n",
    "\n",
    "# Create a sample file for demonstration\n",
    "with open(file_path, \"w\") as f:\n",
    "    f.write(\"This is a sample file containing more than ten characters.\")\n",
    "\n",
    "# Open the file and perform the required operations\n",
    "file = open(file_path, \"r\")\n",
    "\n",
    "# Read the first 10 characters\n",
    "first_10_chars = file.read(10)\n",
    "print(\"First 10 characters:\", first_10_chars)\n",
    "\n",
    "# Move the cursor to the beginning\n",
    "file.seek(0)\n",
    "\n",
    "# Print the current cursor position\n",
    "cursor_position = file.tell()\n",
    "print(\"Cursor position after seek():\", cursor_position)\n",
    "\n",
    "# Close the file\n",
    "file.close()\n",
    "\n"
   ]
  },
  {
   "cell_type": "code",
   "execution_count": 7,
   "id": "7ae8e6ba-303a-4935-8132-8957a8aa591e",
   "metadata": {},
   "outputs": [
    {
     "name": "stdout",
     "output_type": "stream",
     "text": [
      "The employee with the highest salary is: Bob\n"
     ]
    }
   ],
   "source": [
    "# Q10 : Write a program that:\n",
    "#     · Takes 3 employee records (name, dept, salary)\n",
    "#     · Saves them into a CSV file\n",
    "#     · Then reads the CSV file and prints the name of the employee with the highest salary\n",
    "\n",
    "\n",
    "import csv\n",
    "\n",
    "# Step 1: Define employee records\n",
    "employees = [\n",
    "    {\"name\": \"Alice\", \"department\": \"HR\", \"salary\": 55000},\n",
    "    {\"name\": \"Bob\", \"department\": \"Engineering\", \"salary\": 72000},\n",
    "    {\"name\": \"Charlie\", \"department\": \"Marketing\", \"salary\": 60000}\n",
    "]\n",
    "\n",
    "# Step 2: Write employee records to a CSV file\n",
    "csv_filename = \"employees.csv\"\n",
    "with open(csv_filename, mode=\"w\", newline=\"\") as file:\n",
    "    writer = csv.DictWriter(file, fieldnames=[\"name\", \"department\", \"salary\"])\n",
    "    writer.writeheader()\n",
    "    writer.writerows(employees)\n",
    "\n",
    "# Step 3: Read the CSV file and find the employee with the highest salary\n",
    "highest_salary = 0\n",
    "highest_paid_employee = \"\"\n",
    "\n",
    "with open(csv_filename, mode=\"r\") as file:\n",
    "    reader = csv.DictReader(file)\n",
    "    for row in reader:\n",
    "        salary = int(row[\"salary\"])\n",
    "        if salary > highest_salary:\n",
    "            highest_salary = salary\n",
    "            highest_paid_employee = row[\"name\"]\n",
    "\n",
    "# Step 4: Print the result\n",
    "print(f\"The employee with the highest salary is: {highest_paid_employee}\")\n",
    "\n"
   ]
  },
  {
   "cell_type": "code",
   "execution_count": 8,
   "id": "da7bf795-fea2-48a3-8fb4-1a35895e5d0c",
   "metadata": {},
   "outputs": [
    {
     "name": "stdout",
     "output_type": "stream",
     "text": [
      "Excel file 'student_marks.xlsx' created successfully with red cells for marks < 40.\n"
     ]
    }
   ],
   "source": [
    "# Q11: Use openpyxl to:\n",
    "#    · Create a new Excel file\n",
    "#    · Write student names and marks\n",
    "#    · Color cells with marks < 40 as red\n",
    "\n",
    "from openpyxl import Workbook\n",
    "from openpyxl.styles import PatternFill\n",
    "\n",
    "# Create a new workbook and select the active worksheet\n",
    "wb = Workbook()\n",
    "ws = wb.active\n",
    "ws.title = \"Student Marks\"\n",
    "\n",
    "# Define student data: (Name, Marks)\n",
    "students = [\n",
    "    (\"Alice\", 85),\n",
    "    (\"Bob\", 32),\n",
    "    (\"Charlie\", 76),\n",
    "    (\"David\", 28),\n",
    "    (\"Eva\", 90)\n",
    "]\n",
    "\n",
    "# Write headers\n",
    "ws.append([\"Name\", \"Marks\"])\n",
    "\n",
    "# Define red fill for marks < 40\n",
    "red_fill = PatternFill(start_color=\"FF0000\", end_color=\"FF0000\", fill_type=\"solid\")\n",
    "\n",
    "# Write student data and apply red fill for marks < 40\n",
    "for name, marks in students:\n",
    "    ws.append([name, marks])\n",
    "    cell = ws.cell(row=ws.max_row, column=2)\n",
    "    if marks < 40:\n",
    "        cell.fill = red_fill\n",
    "\n",
    "# Save the workbook\n",
    "wb.save(\"student_marks.xlsx\")\n",
    "\n",
    "print(\"Excel file 'student_marks.xlsx' created successfully with red cells for marks < 40.\")\n",
    "\n"
   ]
  },
  {
   "cell_type": "code",
   "execution_count": null,
   "id": "8fd9ec3b-f14f-4b86-9cde-d2d25889517b",
   "metadata": {},
   "outputs": [],
   "source": [
    "# Q12: Write a program using PIL (Pillow) that:\n",
    "#    · Opens an image file\n",
    "#    · Converts it to grayscale\n",
    "#    · Saves the result as a new file\n",
    "#    · Also resizes it to half its original size\n",
    "\n",
    "from PIL import Image\n",
    "\n",
    "# Open the image file\n",
    "input_image_path = \"input_image.jpg\"\n",
    "image = Image.open(input_image_path)\n",
    "\n",
    "# Convert to grayscale\n",
    "gray_image = image.convert(\"L\")\n",
    "\n",
    "# Resize to half the original size\n",
    "width, height = gray_image.size\n",
    "resized_image = gray_image.resize((width // 2, height // 2))\n",
    "\n",
    "# Save the result as a new file\n",
    "output_image_path = \"output_image_grayscale_resized.jpg\"\n",
    "resized_image.save(output_image_path)\n",
    "\n",
    "print(f\"Processed image saved as: {output_image_path}\")\n",
    "\n"
   ]
  },
  {
   "cell_type": "code",
   "execution_count": null,
   "id": "dfef6da0-7eb6-415b-82b4-9d95f77cbe63",
   "metadata": {},
   "outputs": [],
   "source": [
    "# Q13: Write a program that:\n",
    "#    · Opens a file given by the user\n",
    "#    · Handles FileNotFoundError, PermissionError\n",
    "#    · Logs the error into a separate error_log.txt with timestamp\n",
    "\n",
    "\n"
   ]
  }
 ],
 "metadata": {
  "kernelspec": {
   "display_name": "Python 3 (ipykernel)",
   "language": "python",
   "name": "python3"
  },
  "language_info": {
   "codemirror_mode": {
    "name": "ipython",
    "version": 3
   },
   "file_extension": ".py",
   "mimetype": "text/x-python",
   "name": "python",
   "nbconvert_exporter": "python",
   "pygments_lexer": "ipython3",
   "version": "3.13.3"
  }
 },
 "nbformat": 4,
 "nbformat_minor": 5
}
