{
 "cells": [
  {
   "cell_type": "code",
   "execution_count": 21,
   "id": "7feae98e-418d-4665-94b9-66975c473276",
   "metadata": {},
   "outputs": [
    {
     "name": "stdout",
     "output_type": "stream",
     "text": [
      "Hello, Python World!\n"
     ]
    }
   ],
   "source": [
    "# Write and execute your first Python program that prints \"Hello, Python World!\"\n",
    "\n",
    "print(\"Hello, Python World!\")"
   ]
  },
  {
   "cell_type": "code",
   "execution_count": 22,
   "id": "5855dace-3d05-46d2-991e-c264dfc812da",
   "metadata": {},
   "outputs": [
    {
     "name": "stdin",
     "output_type": "stream",
     "text": [
      "enter your name hjhk\n",
      "enter your age 2\n"
     ]
    },
    {
     "name": "stdout",
     "output_type": "stream",
     "text": [
      "name is hjhk\n",
      "age is 2\n"
     ]
    }
   ],
   "source": [
    "# 2. Ask the user for their name and age, then print a greeting message.\n",
    "\n",
    "name=input(\"enter your name\")\n",
    "age=int(input(\"enter your age\"))\n",
    "\n",
    "print(\"name is\", name)\n",
    "print(\"age is\", age)"
   ]
  },
  {
   "cell_type": "code",
   "execution_count": 23,
   "id": "c3616518-e53b-4bca-b2ef-64f6a39db4a6",
   "metadata": {},
   "outputs": [
    {
     "name": "stdin",
     "output_type": "stream",
     "text": [
      "enter a number 3\n"
     ]
    },
    {
     "name": "stdout",
     "output_type": "stream",
     "text": [
      "less than 10\n"
     ]
    }
   ],
   "source": [
    "# 3. Demonstrate indentation in Python using an if statement.\n",
    "\n",
    "x=int(input(\"enter a number\"))\n",
    "\n",
    "if x>10:\n",
    "    print(\"greater than 10\")\n",
    "else:\n",
    "    print(\"less than 10\")\n",
    "    "
   ]
  },
  {
   "cell_type": "code",
   "execution_count": 25,
   "id": "b1e1ecb0-5e7c-4a64-9100-45d3922b346e",
   "metadata": {},
   "outputs": [
    {
     "name": "stdin",
     "output_type": "stream",
     "text": [
      "enter num1 2\n",
      "enter num2 3\n"
     ]
    },
    {
     "name": "stdout",
     "output_type": "stream",
     "text": [
      "sum is 5\n"
     ]
    }
   ],
   "source": [
    "# 4. Create a file sum_numbers.py that asks for two numbers and prints their sum.\n",
    "\n",
    "a=int(input(\"enter num1\"))\n",
    "b=int(input(\"enter num2\"))\n",
    "\n",
    "print(\"sum is\", a+b)"
   ]
  },
  {
   "cell_type": "code",
   "execution_count": 9,
   "id": "e125deae-6f00-4b93-9d2b-0bdfc956d8c5",
   "metadata": {},
   "outputs": [
    {
     "name": "stdout",
     "output_type": "stream",
     "text": [
      "  4           RESUME                   0\n",
      "\n",
      "  5           LOAD_GLOBAL              1 (print + NULL)\n",
      "              LOAD_CONST               1 ('Hello!')\n",
      "              CALL                     1\n",
      "              POP_TOP\n",
      "              RETURN_CONST             0 (None)\n"
     ]
    }
   ],
   "source": [
    "#5. Display the bytecode of a function using the dis module.\n",
    "\n",
    "import dis  # dissambler\n",
    "def greet():\n",
    "    print(\"Hello!\")\n",
    "dis.dis(greet)"
   ]
  },
  {
   "cell_type": "code",
   "execution_count": 27,
   "id": "837bde36-f01b-435c-9704-1a5311d88053",
   "metadata": {},
   "outputs": [
    {
     "name": "stdout",
     "output_type": "stream",
     "text": [
      "Status Code: 200\n",
      "its working\n"
     ]
    }
   ],
   "source": [
    "# 6. Use pip to install a package and import it.\n",
    "\n",
    "import requests\n",
    "\n",
    "response = requests.get(\"https://github.com\")\n",
    "\n",
    "print(\"Status Code:\", response.status_code)\n",
    "\n",
    "if response.status_code == 200:\n",
    "    print(\"its working\")\n",
    "else:\n",
    "    print(\"website down\")"
   ]
  },
  {
   "cell_type": "code",
   "execution_count": 29,
   "id": "25e3cd7f-1efb-488b-a117-fad27311d3b6",
   "metadata": {},
   "outputs": [
    {
     "name": "stdout",
     "output_type": "stream",
     "text": [
      "Square: 25\n"
     ]
    }
   ],
   "source": [
    "# 7. In Jupyter Notebook, write a cell to calculate the square of a number.\n",
    "\n",
    "num = 5\n",
    "square = num ** 2\n",
    "print(\"Square:\", square)"
   ]
  },
  {
   "cell_type": "code",
   "execution_count": 30,
   "id": "3cbeab7f-59b8-4c03-ae84-de716e213bb5",
   "metadata": {},
   "outputs": [],
   "source": [
    "# 8. Compare Python with C using comments in a .py file.\n",
    "\n",
    "\n",
    "# 1. Syntax Simplicity\n",
    "# Python: Uses indentation to define blocks, making code more readable.\n",
    "# C: Uses braces {} to define code blocks and requires semicolons at the end of statements.\n",
    "\n",
    "# Example:\n",
    "# Python:\n",
    "# if x > 0:\n",
    "#     print(\"Positive\")\n",
    "\n",
    "# C:\n",
    "# if (x > 0) {\n",
    "#     printf(\"Positive\\n\");\n",
    "# }\n",
    "\n",
    "# 2. Memory Management\n",
    "# Python: Has automatic garbage collection and memory management.\n",
    "# C: Requires manual memory allocation and deallocation using malloc/free.\n",
    "\n",
    "# 3. Compilation vs Interpretation\n",
    "# Python: Interpreted language; code is executed line-by-line.\n",
    "# C: Compiled language; code is converted to machine code before execution.\n",
    "\n",
    "# 4. Standard Libraries\n",
    "# Python: Comes with a vast standard library for various tasks (web, data, etc.).\n",
    "# C: Has a smaller standard library; additional functionality often requires external libraries.\n",
    "\n",
    "# 5. Typing System\n",
    "# Python: Dynamically typed; variable types are inferred at runtime.\n",
    "# C: Statically typed; variable types must be declared explicitly.\n",
    "\n",
    "# 6. Speed and Performance\n",
    "# Python: Slower due to interpretation and dynamic typing.\n",
    "# C: Faster due to compilation and low-level memory access.\n",
    "\n",
    "# 7. Use Cases\n",
    "# Python: Ideal for scripting, web development, data science, automation.\n",
    "# C: Ideal for system programming, embedded systems, performance-critical applications.\n",
    "\n",
    "# 8. Error Handling\n",
    "# Python: Uses exceptions for error handling.\n",
    "# C: Uses return codes and manual checks for errors.\n",
    "\n",
    "# 9. Portability\n",
    "# Python: Highly portable across platforms with Python interpreter.\n",
    "# C: Requires recompilation for different platforms.\n",
    "\n",
    "# 10. Community and Ecosystem\n",
    "# Python: Large and active community with extensive third-party packages.\n",
    "# C: Long-standing community with strong support for system-level programming.\n",
    "\n",
    "# Summary:\n",
    "# Python emphasizes ease of use and rapid development, while C provides control and performance.\n",
    "# Choosing between them depends on the specific requirements of the project.\n"
   ]
  },
  {
   "cell_type": "code",
   "execution_count": 20,
   "id": "ae68d095-38a2-4ce7-85d6-f350e7dd1ce5",
   "metadata": {},
   "outputs": [
    {
     "name": "stdin",
     "output_type": "stream",
     "text": [
      "Enter a string:  hi there\n"
     ]
    },
    {
     "name": "stdout",
     "output_type": "stream",
     "text": [
      "HI THERE\n",
      "hi there\n",
      "Hi There\n"
     ]
    }
   ],
   "source": [
    "#9. Input a string and print it in upper, lower, and title case.\n",
    "\n",
    "text = input(\"Enter a string: \")\n",
    "print(text.upper()) \n",
    "print(text.lower()) \n",
    "print(text.title())"
   ]
  },
  {
   "cell_type": "code",
   "execution_count": 35,
   "id": "19230d6f-0e4c-45fb-adeb-278e189c8663",
   "metadata": {},
   "outputs": [
    {
     "name": "stdin",
     "output_type": "stream",
     "text": [
      "enter num1 3\n",
      "enter num2 8\n"
     ]
    },
    {
     "name": "stdout",
     "output_type": "stream",
     "text": [
      "product is 24\n"
     ]
    }
   ],
   "source": [
    "# 11. Read two numbers and display their product with formatted output.\n",
    "\n",
    "a=int(input(\"enter num1\"))\n",
    "b=int(input(\"enter num2\"))\n",
    "c=a*b\n",
    "print(f\"product is {c}\")\n",
    "\n"
   ]
  },
  {
   "cell_type": "code",
   "execution_count": 37,
   "id": "c530a29c-58e1-42cb-ac2b-20aaae6dc2db",
   "metadata": {},
   "outputs": [
    {
     "name": "stdout",
     "output_type": "stream",
     "text": [
      "Student: Alice, Score: 95\n",
      "Student: Alice, Score: 95\n",
      "Student: Alice, Score: 95\n"
     ]
    }
   ],
   "source": [
    "# Q-15. Demonstrate different print formats using %, .format(), and f-strings.\n",
    "\n",
    "name = \"Alice\"\n",
    "score = 95\n",
    "print(\"Student: %s, Score: %d\" % (name, score)) \n",
    "print(\"Student: {}, Score: {}\".format(name, score))\n",
    "print(f\"Student: {name}, Score: {score}\") "
   ]
  },
  {
   "cell_type": "code",
   "execution_count": null,
   "id": "f81fe758-b8ba-4dba-b1bd-be6f54f27b8e",
   "metadata": {},
   "outputs": [],
   "source": []
  }
 ],
 "metadata": {
  "kernelspec": {
   "display_name": "Python 3 (ipykernel)",
   "language": "python",
   "name": "python3"
  },
  "language_info": {
   "codemirror_mode": {
    "name": "ipython",
    "version": 3
   },
   "file_extension": ".py",
   "mimetype": "text/x-python",
   "name": "python",
   "nbconvert_exporter": "python",
   "pygments_lexer": "ipython3",
   "version": "3.13.3"
  }
 },
 "nbformat": 4,
 "nbformat_minor": 5
}
